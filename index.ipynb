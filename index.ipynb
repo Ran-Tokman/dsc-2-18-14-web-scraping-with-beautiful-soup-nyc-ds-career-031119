{
 "cells": [
  {
   "cell_type": "markdown",
   "metadata": {},
   "source": [
    "# Web Scraping with Beautiful Soup"
   ]
  },
  {
   "cell_type": "markdown",
   "metadata": {},
   "source": [
    "## Introduction\n",
    "\n",
    "The web is full of great datasets, but not all of them are readily available for download and analysis.\n",
    "Today we'll take a look at how you can surf the web robotically, saving the relevant information into storage containers as you go!\n",
    "\n",
    "We'll be taking a look at two main packages:\n",
    "* Beautiful Soup\n",
    "* Pandas\n",
    "\n",
    "Our general approach will be:\n",
    "* pick a domain/set of web pages to scrape\n",
    "* investigate those web pages using the developers tools from your web browser (such as Chrome or Firefox)\n",
    "* write rules to select the relevant objects from the DOM\n",
    "* parse information from those objects and store it in a container"
   ]
  },
  {
   "cell_type": "markdown",
   "metadata": {},
   "source": [
    "## Objectives\n",
    "You will be able to:\n",
    "* Scrape static webpages\n",
    "* Select specific elements from the DOM"
   ]
  },
  {
   "cell_type": "markdown",
   "metadata": {},
   "source": [
    "## Web Page Introduction: **The DOM + HTML**"
   ]
  },
  {
   "cell_type": "markdown",
   "metadata": {},
   "source": [
    "Before we start scraping, having a little background about how web pages are formatted is very helpful.\n",
    "\n",
    "\"The Document Object Model (DOM) is a programming interface for HTML and XML documents. It represents the page so that programs can change the document structure, style, and content. The DOM represents the document as nodes and objects. That way, programming languages can connect to the page.\" Amongst other things, this allows programming languages such as javascript to interactively change the page and HTML!  \n",
    "\n",
    "What you'll see is the DOM and HTML create a hierarchy of elements. This structure and the underlying elements can be naviagated similar to a family tree which is one of Beautiful Soups main mechanisms for naviagation; once you select a specific element within a page you can then navigate to successive elements using methods such as sibling, parent or descendents.\n",
    "  \n",
    "To learn more about the DOM see:  \n",
    "https://developer.mozilla.org/en-US/docs/Web/API/Document_Object_Model/Introduction"
   ]
  },
  {
   "cell_type": "markdown",
   "metadata": {},
   "source": [
    "![](./images/DOM-model.svg.png)"
   ]
  },
  {
   "cell_type": "markdown",
   "metadata": {},
   "source": [
    "## Beautiful Soup   \n",
    "https://www.crummy.com/software/BeautifulSoup/bs4/doc/   \n",
    "\n",
    "Beautiful Soup is a Python library designed for quick turnaround projects like screen-scraping. Three features make it powerful:\n",
    "\n",
    "* Beautiful Soup provides a few simple methods and Pythonic idioms for navigating, searching, and modifying a parse tree: a toolkit for dissecting a document and extracting what you need. It doesn't take much code to write an application\n",
    "\n",
    "* Beautiful Soup automatically converts incoming documents to Unicode and outgoing documents to UTF-8. You don't have to think about encodings, unless the document doesn't specify an encoding and Beautiful Soup can't detect one. Then you just have to specify the original encoding.\n",
    "\n",
    "* Beautiful Soup sits on top of popular Python parsers like lxml and html5lib, allowing you to try out different parsing strategies or trade speed for flexibility.\n",
    "\n",
    "Beautiful Soup parses anything you give it, and does the tree traversal stuff for you. You can tell it \"Find all the links\", or \"Find all the links of class externalLink\", or \"Find all the links whose urls match \"foo.com\", or \"Find the table heading that's got bold text, then give me that text.\""
   ]
  },
  {
   "cell_type": "code",
   "execution_count": 1,
   "metadata": {},
   "outputs": [],
   "source": [
    "from bs4 import BeautifulSoup\n",
    "import requests\n",
    "import re\n",
    "import pandas as pd"
   ]
  },
  {
   "cell_type": "markdown",
   "metadata": {},
   "source": [
    "## An example webpage"
   ]
  },
  {
   "cell_type": "code",
   "execution_count": 2,
   "metadata": {},
   "outputs": [
    {
     "name": "stdout",
     "output_type": "stream",
     "text": [
      "<html>\n",
      " <head>\n",
      "  <title>\n",
      "   The Dormouse's story\n",
      "  </title>\n",
      " </head>\n",
      " <body>\n",
      "  <p class=\"title\">\n",
      "   <b>\n",
      "    The Dormouse's story\n",
      "   </b>\n",
      "  </p>\n",
      "  <p class=\"story\">\n",
      "   Once upon a time there were three little sisters; and their names were\n",
      "   <a class=\"sister\" href=\"http://example.com/elsie\" id=\"link1\">\n",
      "    Elsie\n",
      "   </a>\n",
      "   ,\n",
      "   <a class=\"sister\" href=\"http://example.com/lacie\" id=\"link2\">\n",
      "    Lacie\n",
      "   </a>\n",
      "   and\n",
      "   <a class=\"sister\" href=\"http://example.com/tillie\" id=\"link2\">\n",
      "    Tillie\n",
      "   </a>\n",
      "   ; and they lived at the bottom of a well.\n",
      "  </p>\n",
      "  <p class=\"story\">\n",
      "   ...\n",
      "  </p>\n",
      " </body>\n",
      "</html>\n"
     ]
    }
   ],
   "source": [
    "with open('sample_page.html') as f:\n",
    "    soup = BeautifulSoup(f, 'html.parser')\n",
    "print(soup.prettify())"
   ]
  },
  {
   "cell_type": "markdown",
   "metadata": {},
   "source": [
    "#### A few introductory Beautiful Soup Selections..."
   ]
  },
  {
   "cell_type": "code",
   "execution_count": 4,
   "metadata": {},
   "outputs": [
    {
     "name": "stdout",
     "output_type": "stream",
     "text": [
      "<title>\n",
      "    The Dormouse's story\n",
      "   </title>\n",
      "title\n",
      "\n",
      "    The Dormouse's story\n",
      "   \n",
      "head\n",
      "<p class=\"title\">\n",
      "<b>\n",
      "     The Dormouse's story\n",
      "    </b>\n",
      "</p>\n",
      "['title']\n",
      "<a class=\"sister\" href=\"http://example.com/elsie\" id=\"link1\">\n",
      "     Elsie\n",
      "    </a>\n",
      "[<a class=\"sister\" href=\"http://example.com/elsie\" id=\"link1\">\n",
      "     Elsie\n",
      "    </a>, <a class=\"sister\" href=\"http://example.com/lacie\" id=\"link2\">\n",
      "     Lacie\n",
      "    </a>, <a class=\"sister\" href=\"http://example.com/tillie\" id=\"link2\">\n",
      "     Tillie\n",
      "    </a>]\n",
      "None\n"
     ]
    }
   ],
   "source": [
    "print(soup.title)\n",
    "# <title>The Dormouse's story</title>\n",
    "\n",
    "print(soup.title.name)\n",
    "# u'title'\n",
    "\n",
    "print(soup.title.string)\n",
    "# u'The Dormouse's story'\n",
    "\n",
    "print(soup.title.parent.name)\n",
    "# u'head'\n",
    "\n",
    "print(soup.p)\n",
    "# <p class=\"title\"><b>The Dormouse's story</b></p>\n",
    "\n",
    "print(soup.p['class'])\n",
    "# u'title'\n",
    "\n",
    "print(soup.a)\n",
    "# <a class=\"sister\" href=\"http://example.com/elsie\" id=\"link1\">Elsie</a>\n",
    "\n",
    "print(soup.find_all('a'))\n",
    "# [<a class=\"sister\" href=\"http://example.com/elsie\" id=\"link1\">Elsie</a>,\n",
    "#  <a class=\"sister\" href=\"http://example.com/lacie\" id=\"link2\">Lacie</a>,\n",
    "#  <a class=\"sister\" href=\"http://example.com/tillie\" id=\"link3\">Tillie</a>]\n",
    "\n",
    "print(soup.find(id=\"link3\"))\n",
    "# <a class=\"sister\" href=\"http://example.com/tillie\" id=\"link3\">Tillie</a>"
   ]
  },
  {
   "cell_type": "markdown",
   "metadata": {},
   "source": [
    "## Grabbing a Web Page"
   ]
  },
  {
   "cell_type": "code",
   "execution_count": 5,
   "metadata": {},
   "outputs": [],
   "source": [
    "html_page = requests.get('https://www.azlyrics.com/') #Make a get request to retrieve the page\n",
    "soup = BeautifulSoup(html_page.content, 'html.parser') #Pass the page contents to beautiful soup for parsing"
   ]
  },
  {
   "cell_type": "code",
   "execution_count": 6,
   "metadata": {},
   "outputs": [
    {
     "name": "stdout",
     "output_type": "stream",
     "text": [
      "<!DOCTYPE html>\n",
      "<html lang=\"en\">\n",
      " <head>\n",
      "  <meta charset=\"utf-8\"/>\n",
      "  <meta content=\"IE=edge\" http-equiv=\"X-UA-Compatible\"/>\n",
      "  <meta content=\"width=device-width, initial-scale=1\" name=\"viewport\"/>\n",
      "  <meta content=\"noarchive\" name=\"robots\"/>\n",
      "  <meta content=\"AZLyrics\" name=\"name\"/>\n",
      "  <meta content=\"lyrics,music,song lyrics,songs,paroles\" name=\"keywords\"/>\n",
      "  <base href=\"//www.azlyrics.com\"/>\n",
      "  <script src=\"//www.azlyrics.com/external.js\" type=\"text/javascript\">\n",
      "  </script>\n",
      "  <title>\n",
      "   AZLyrics - Song Lyrics from A to Z\n",
      "  </title>\n",
      "  <link href=\"https://maxcdn.bootstrapcdn.com/bootstrap/3.3.4/css/bootstrap.min.css\" rel=\"stylesheet\"/>\n",
      "  <link href=\"//www.azlyrics.com/bsaz.css\" rel=\"stylesheet\"/>\n",
      "  <!-- HTML5 shim and Respond.js for IE8 support of HTML5 elements and media queries -->\n",
      "  <!--[if lt IE 9]>\r\n",
      "      <script src=\"https://oss.maxcdn.com/html5shiv/3.7.2/html5shiv.min.js\"></script>\r\n",
      "      <script src=\"https://oss.maxcdn.com/respond/1.4.2/respond.min.js\"></script>\r\n",
      "    <![endif]-->\n",
      "  <\n"
     ]
    }
   ],
   "source": [
    "#Preview the soup....MMMMMM SOUP :)\n",
    "print(soup.prettify()[:1000])"
   ]
  },
  {
   "cell_type": "markdown",
   "metadata": {},
   "source": [
    "### Inspecting the Web Page for Relevant Elements"
   ]
  },
  {
   "cell_type": "markdown",
   "metadata": {},
   "source": [
    "Here's the page itself:\n",
    "\n",
    "![](./images/home_page.png)"
   ]
  },
  {
   "cell_type": "markdown",
   "metadata": {},
   "source": [
    "## Parsing the DOM"
   ]
  },
  {
   "cell_type": "markdown",
   "metadata": {},
   "source": [
    "### soup.findAll()"
   ]
  },
  {
   "cell_type": "markdown",
   "metadata": {},
   "source": [
    "One common method we'll be use to navigate through the web page to extract information of interest is the soup.findAll() method.\n",
    "\n",
    "**Here's the docstring which you can bring up by typing (soup.findAll? [shift+enter])**  \n",
    "\n",
    "soup.findAll(name=None, attrs={}, recursive=True, text=None, limit=None, **kwargs)  \n",
    "\n",
    "Docstring:\n",
    "Extracts a list of Tag objects that match the given\n",
    "criteria.  You can specify the name of the Tag and any\n",
    "attributes you want the Tag to have.   \n",
    "\n",
    "The value of a key-value pair in the 'attrs' map can be a\n",
    "string, a list of strings, a regular expression object, or a\n",
    "callable that takes a string and returns whether or not the\n",
    "string matches for some custom definition of 'matches'. The\n",
    "same is true of the tag name."
   ]
  },
  {
   "cell_type": "code",
   "execution_count": 7,
   "metadata": {},
   "outputs": [
    {
     "data": {
      "text/plain": [
       "[<a class=\"btn btn-menu\" href=\"//www.azlyrics.com/y.html\">Y</a>,\n",
       " <a class=\"btn btn-menu\" href=\"//www.azlyrics.com/z.html\">Z</a>,\n",
       " <a class=\"btn btn-menu\" href=\"//www.azlyrics.com/19.html\">#</a>,\n",
       " <a href=\"/b/badsuns.html#64983\"><img alt=\"\" src=\"/hot/64983.jpg\"/></a>,\n",
       " <a href=\"/b/badsuns.html#64983\">Bad Suns</a>,\n",
       " <a href=\"/b/bonnietyler.html#65461\"><img alt=\"\" src=\"/hot/65461.jpg\"/></a>,\n",
       " <a href=\"/b/bonnietyler.html#65461\">Bonnie Tyler</a>,\n",
       " <a href=\"/d/deanlewis.html#66670\"><img alt=\"\" src=\"/hot/66670.jpg\"/></a>,\n",
       " <a href=\"/d/deanlewis.html#66670\">Dean Lewis</a>,\n",
       " <a href=\"/n/nav.html#66887\"><img alt=\"\" src=\"/hot/66887.jpg\"/></a>]"
      ]
     },
     "execution_count": 7,
     "metadata": {},
     "output_type": "execute_result"
    }
   ],
   "source": [
    "#Get all the hyperlinks on a page\n",
    "links = soup.findAll('a')\n",
    "links[25:35]"
   ]
  },
  {
   "cell_type": "code",
   "execution_count": 13,
   "metadata": {},
   "outputs": [
    {
     "data": {
      "text/plain": [
       "'https://www.azlyrics.com//n/nav.html#66887'"
      ]
     },
     "execution_count": 13,
     "metadata": {},
     "output_type": "execute_result"
    }
   ],
   "source": [
    "url_base+url_ext"
   ]
  },
  {
   "cell_type": "markdown",
   "metadata": {},
   "source": [
    "## Lets pull one of the link pages and see what we can get!  \n",
    "**Notice that these are relative links that all refer to pages and subdirectories within the azlyrics domain.**  \n",
    "We'll have to be sure to account for this when pulling successive pages."
   ]
  },
  {
   "cell_type": "code",
   "execution_count": 9,
   "metadata": {},
   "outputs": [
    {
     "name": "stdout",
     "output_type": "stream",
     "text": [
      "<!DOCTYPE html>\n",
      "<html lang=\"en\">\n",
      " <head>\n",
      "  <meta charset=\"utf-8\"/>\n",
      "  <meta content=\"IE=edge\" http-equiv=\"X-UA-Compatible\"/>\n",
      "  <meta content=\"width=device-width, initial-scale=1\" name=\"viewport\"/>\n",
      "  <!-- The above 3 meta tags *must* come first in the head; any other head content must come *after* these tags -->\n",
      "  <meta content='NAV lyrics - 83 song lyrics sorted by album, including \"Vicodin\", \"Time Piece\", \"Why You Crying Mama\".' name=\"description\"/>\n",
      "  <meta content=\"NAV, NAV lyrics, discography, albums, songs\" name=\"keywords\"/>\n",
      "  <meta content=\"noarchive\" name=\"robots\"/>\n",
      "  <title>\n",
      "   NAV Lyrics\n",
      "  </title>\n",
      "  <link href=\"https://maxcdn.bootstrapcdn.com/bootstrap/3.3.4/css/bootstrap.min.css\" rel=\"stylesheet\"/>\n",
      "  <link href=\"//www.azlyrics.com/bsaz.css\" rel=\"stylesheet\"/>\n",
      "  <!-- HTML5 shim and Respond.js for IE8 support of HTML5 elements and media queries -->\n",
      "  <!--[if lt IE 9]>\r\n",
      "<script src=\"https://oss.maxcdn.com/html5shiv/3.7.2/html5shiv.min.js\"></script>\r\n",
      "<script src=\"https://oss.maxcd\n"
     ]
    }
   ],
   "source": [
    "link = links[35]\n",
    "url_base = 'https://www.azlyrics.com/'\n",
    "url_ext = link.get('href')\n",
    "html_page = requests.get(url_base + url_ext)\n",
    "soup = BeautifulSoup(html_page.content, 'html.parser')\n",
    "print(soup.prettify()[:1000])"
   ]
  },
  {
   "cell_type": "markdown",
   "metadata": {},
   "source": [
    "### More parsing!\n",
    "Here's what the page looks like in a web browser:\n",
    "\n",
    "![](./images/artist_page.png)\n",
    "\n",
    "Now let's retrieve a list of the song pages as well as their assosciated albums!"
   ]
  },
  {
   "cell_type": "markdown",
   "metadata": {},
   "source": [
    "### Pulling out the Album Headers\n",
    "\n",
    "![](./images/artist_inspect.png)\n",
    "We want something more specific so let's look at the page itself.  \n",
    "Right click (windows)/ option + click (mac) on one of the album titles and go to **inspect**.  \n",
    "\n",
    "You should see something like this:\n",
    "![](./images/artist_inspect_detailed.png)\n",
    "\n",
    "Look at the details for the album header:  \n",
    "  \n",
    "  \n",
    "![](./images/inspect_div_detailed.png)\n",
    "It's a div container called 'album'! Let's use this to select the various albums from the page."
   ]
  },
  {
   "cell_type": "code",
   "execution_count": 14,
   "metadata": {},
   "outputs": [
    {
     "name": "stdout",
     "output_type": "stream",
     "text": [
      "Number of matches: 8\n",
      "Object type: <class 'bs4.element.ResultSet'>\n",
      "Preview of objects:\n",
      "[<div class=\"album\" id=\"46226\">mixtape: <b>\"The Introduction\"</b> (2016)</div>, <div class=\"album\" id=\"46522\">mixtape: <b>\"NAV\"</b> (2017)</div>]\n"
     ]
    }
   ],
   "source": [
    "albums = soup.find_all(\"div\", class_=\"album\")\n",
    "print('Number of matches: {}'.format(len(albums)))\n",
    "print('Object type: {}'.format(type(albums)))\n",
    "print('Preview of objects:\\n{}'.format(albums[:2]))"
   ]
  },
  {
   "cell_type": "code",
   "execution_count": 26,
   "metadata": {},
   "outputs": [
    {
     "data": {
      "text/plain": [
       "'EP: \"1 Night\" (2018)(with Guap Tarantino)'"
      ]
     },
     "execution_count": 26,
     "metadata": {},
     "output_type": "execute_result"
    }
   ],
   "source": [
    "albums[4].text"
   ]
  },
  {
   "cell_type": "markdown",
   "metadata": {},
   "source": [
    "### Navigating the DOM Hierarchy\n",
    "![](./images/artist_song_inspect.png)\n",
    "Notice that under each of these album DIVs there are links for each of the songs.  \n",
    "These links aren't children of the div object in the page's structure (they could be but that's not how this website structured them.) Instead, they are siblings to the div element."
   ]
  },
  {
   "cell_type": "markdown",
   "metadata": {},
   "source": [
    "### Pulling out the Song Titles and Pages\n",
    "Let's start by taking a look at all of the hyperlinked siblings of the first album we found."
   ]
  },
  {
   "cell_type": "code",
   "execution_count": 24,
   "metadata": {},
   "outputs": [
    {
     "data": {
      "text/plain": [
       "'../lyrics/nav/nothinonyou.html'"
      ]
     },
     "execution_count": 24,
     "metadata": {},
     "output_type": "execute_result"
    }
   ],
   "source": [
    "album = albums[0]\n",
    "album.findNextSiblings('a')[0].get('href')"
   ]
  },
  {
   "cell_type": "markdown",
   "metadata": {},
   "source": [
    "See anything we can use to seperate the songs out by album?!  \n",
    "\n",
    "One option is those \"id\" tags...the web page appears to be structured to have one of these at the end of a song list for a particular album.\n",
    "\n",
    "A second option would be to look at all of the previous song titles from the next album. Then all of the songs that were both after the first album and before the second album would be those that we're after!\n",
    "\n",
    "To be difficult, I'll choose the second method to demonstrate. I'll leave the other option for you as a challenge to practice on.\n",
    "\n",
    "This should also show you that web scraping can be messy, interactive and explorative; its often a process of analyzing a page, finding structure that you can leverage and iterating to retrieve the information you're after."
   ]
  },
  {
   "cell_type": "code",
   "execution_count": 30,
   "metadata": {},
   "outputs": [
    {
     "data": {
      "text/plain": [
       "[('Nothin On You',\n",
       "  '../lyrics/nav/nothinonyou.html',\n",
       "  'mixtape: \"The Introduction\" (2016)'),\n",
       " ('Make Your Mind Up',\n",
       "  '../lyrics/nav/makeyourmindup.html',\n",
       "  'mixtape: \"The Introduction\" (2016)'),\n",
       " ('Mission',\n",
       "  '../lyrics/nav/mission.html',\n",
       "  'mixtape: \"The Introduction\" (2016)'),\n",
       " ('Brown Boy',\n",
       "  '../lyrics/nav/brownboy.html',\n",
       "  'mixtape: \"The Introduction\" (2016)'),\n",
       " ('Take Me Simple',\n",
       "  '../lyrics/nav/takemesimple.html',\n",
       "  'mixtape: \"The Introduction\" (2016)'),\n",
       " ('She Know',\n",
       "  '../lyrics/nav/sheknow.html',\n",
       "  'mixtape: \"The Introduction\" (2016)'),\n",
       " ('Fell In Love',\n",
       "  '../lyrics/nav/fellinlove.html',\n",
       "  'mixtape: \"The Introduction\" (2016)'),\n",
       " ('Myself', '../lyrics/nav/myself.html', 'mixtape: \"The Introduction\" (2016)'),\n",
       " ('On My Own',\n",
       "  '../lyrics/nav/onmyown.html',\n",
       "  'mixtape: \"The Introduction\" (2016)'),\n",
       " ('The Man',\n",
       "  '../lyrics/nav/theman.html',\n",
       "  'mixtape: \"The Introduction\" (2016)'),\n",
       " ('Over', '../lyrics/nav/over.html', 'mixtape: \"The Introduction\" (2016)'),\n",
       " ('TTD (Ten Toes Down)',\n",
       "  '../lyrics/nav/tentoesdown.html',\n",
       "  'mixtape: \"The Introduction\" (2016)'),\n",
       " ('Up', '../lyrics/nav/up.html', 'mixtape: \"The Introduction\" (2016)'),\n",
       " ('Nothing On Me',\n",
       "  '../lyrics/nav/nothingonme.html',\n",
       "  'mixtape: \"The Introduction\" (2016)'),\n",
       " ('Re Up',\n",
       "  'http://www.azlyrics.com/lyrics/belly/reup.html',\n",
       "  'mixtape: \"The Introduction\" (2016)'),\n",
       " ('Myself', '../lyrics/nav/myself.html', 'mixtape: \"The Introduction\" (2016)'),\n",
       " ('Up', '../lyrics/nav/up.html', 'mixtape: \"The Introduction\" (2016)'),\n",
       " ('TTD (Ten Toes Down)',\n",
       "  '../lyrics/nav/tentoesdown.html',\n",
       "  'mixtape: \"The Introduction\" (2016)'),\n",
       " ('Myself', '../lyrics/nav/myself.html', 'mixtape: \"NAV\" (2017)'),\n",
       " ('NAV', '../lyrics/nav/nav.html', 'mixtape: \"NAV\" (2017)'),\n",
       " ('My Mind', '../lyrics/nav/mymind.html', 'mixtape: \"NAV\" (2017)'),\n",
       " ('Good For It', '../lyrics/nav/goodforit.html', 'mixtape: \"NAV\" (2017)'),\n",
       " ('Lonely', '../lyrics/nav/lonely.html', 'mixtape: \"NAV\" (2017)'),\n",
       " ('Up', '../lyrics/nav/up.html', 'mixtape: \"NAV\" (2017)'),\n",
       " ('Interlude', '../lyrics/nav/interlude.html', 'mixtape: \"NAV\" (2017)'),\n",
       " ('Sleep', '../lyrics/nav/sleep.html', 'mixtape: \"NAV\" (2017)'),\n",
       " ('Mariah', '../lyrics/nav/mariah.html', 'mixtape: \"NAV\" (2017)'),\n",
       " ('Some Way', '../lyrics/nav/someway.html', 'mixtape: \"NAV\" (2017)'),\n",
       " ('TTD (Ten Toes Down)',\n",
       "  '../lyrics/nav/tentoesdown.html',\n",
       "  'mixtape: \"NAV\" (2017)'),\n",
       " ('Perfect Timing (Intro)',\n",
       "  '../lyrics/nav/perfecttimingintro.html',\n",
       "  'mixtape: \"Perfect Timing\" (2017)(with Metro Boomin)'),\n",
       " (\"I Don't Care\",\n",
       "  '../lyrics/nav/idontcare.html',\n",
       "  'mixtape: \"Perfect Timing\" (2017)(with Metro Boomin)'),\n",
       " ('Hit',\n",
       "  '../lyrics/nav/hit.html',\n",
       "  'mixtape: \"Perfect Timing\" (2017)(with Metro Boomin)'),\n",
       " ('A$AP Ferg',\n",
       "  '../lyrics/nav/aapferg.html',\n",
       "  'mixtape: \"Perfect Timing\" (2017)(with Metro Boomin)'),\n",
       " ('Held Me Down',\n",
       "  '../lyrics/nav/heldmedown.html',\n",
       "  'mixtape: \"Perfect Timing\" (2017)(with Metro Boomin)'),\n",
       " ('Minute',\n",
       "  '../lyrics/nav/minute.html',\n",
       "  'mixtape: \"Perfect Timing\" (2017)(with Metro Boomin)'),\n",
       " ('Did You See NAV?',\n",
       "  '../lyrics/nav/didyouseenav.html',\n",
       "  'mixtape: \"Perfect Timing\" (2017)(with Metro Boomin)'),\n",
       " ('Bring It Back',\n",
       "  '../lyrics/nav/bringitback.html',\n",
       "  'mixtape: \"Perfect Timing\" (2017)(with Metro Boomin)'),\n",
       " ('Both Sides',\n",
       "  '../lyrics/nav/bothsides.html',\n",
       "  'mixtape: \"Perfect Timing\" (2017)(with Metro Boomin)'),\n",
       " ('Call Me',\n",
       "  '../lyrics/nav/callme.html',\n",
       "  'mixtape: \"Perfect Timing\" (2017)(with Metro Boomin)'),\n",
       " ('You Know',\n",
       "  '../lyrics/nav/youknow.html',\n",
       "  'mixtape: \"Perfect Timing\" (2017)(with Metro Boomin)'),\n",
       " ('Rich',\n",
       "  '../lyrics/nav/rich.html',\n",
       "  'mixtape: \"Perfect Timing\" (2017)(with Metro Boomin)'),\n",
       " ('Need Some',\n",
       "  '../lyrics/nav/needsome.html',\n",
       "  'mixtape: \"Perfect Timing\" (2017)(with Metro Boomin)'),\n",
       " ('I Am',\n",
       "  '../lyrics/nav/iam.html',\n",
       "  'mixtape: \"Perfect Timing\" (2017)(with Metro Boomin)'),\n",
       " ('NAVUZIMETRO#PT2',\n",
       "  '../lyrics/nav/navuzimetropt2.html',\n",
       "  'mixtape: \"Perfect Timing\" (2017)(with Metro Boomin)'),\n",
       " ('Reckless', '../lyrics/nav/reckless.html', 'album: \"RECKLESS\" (2018)'),\n",
       " ('Never Change',\n",
       "  '../lyrics/nav/neverchange.html',\n",
       "  'album: \"RECKLESS\" (2018)'),\n",
       " ('Hold Your Hand',\n",
       "  '../lyrics/nav/holdyourhand.html',\n",
       "  'album: \"RECKLESS\" (2018)'),\n",
       " ('Faith', '../lyrics/nav/faith.html', 'album: \"RECKLESS\" (2018)'),\n",
       " ('Champion', '../lyrics/nav/champion.html', 'album: \"RECKLESS\" (2018)'),\n",
       " ('Glow Up', '../lyrics/nav/glowup.html', 'album: \"RECKLESS\" (2018)'),\n",
       " ('Just Happened',\n",
       "  '../lyrics/nav/justhappened.html',\n",
       "  'album: \"RECKLESS\" (2018)'),\n",
       " ('Wanted You', '../lyrics/nav/wantedyou.html', 'album: \"RECKLESS\" (2018)'),\n",
       " ('With Me', '../lyrics/nav/withme.html', 'album: \"RECKLESS\" (2018)'),\n",
       " ('Eat', '../lyrics/nav/eat.html', 'album: \"RECKLESS\" (2018)'),\n",
       " ('Freshman List',\n",
       "  '../lyrics/nav/freshmanlist.html',\n",
       "  'album: \"RECKLESS\" (2018)'),\n",
       " ('What I Need', '../lyrics/nav/whatineed.html', 'album: \"RECKLESS\" (2018)'),\n",
       " ('Threesome',\n",
       "  '../lyrics/nav/threesome.html',\n",
       "  'EP: \"1 Night\" (2018)(with Guap Tarantino)'),\n",
       " ('Back It Up',\n",
       "  '../lyrics/nav/backitup.html',\n",
       "  'EP: \"1 Night\" (2018)(with Guap Tarantino)'),\n",
       " ('Ratchets',\n",
       "  '../lyrics/nav/ratchets.html',\n",
       "  'EP: \"1 Night\" (2018)(with Guap Tarantino)'),\n",
       " ('VVS',\n",
       "  '../lyrics/nav/vvs.html',\n",
       "  'EP: \"1 Night\" (2018)(with Guap Tarantino)'),\n",
       " ('XO FBG',\n",
       "  '../lyrics/nav/xofbg.html',\n",
       "  'EP: \"1 Night\" (2018)(with Guap Tarantino)'),\n",
       " ('Go To Hell', '../lyrics/nav/gotohell.html', 'EP: \"Brown Boy\" (2019)'),\n",
       " ('8 To 4', '../lyrics/nav/8to4.html', 'EP: \"Brown Boy\" (2019)'),\n",
       " ('Never Know', '../lyrics/nav/neverknow.html', 'EP: \"Brown Boy\" (2019)'),\n",
       " ('OK', '../lyrics/nav/ok.html', 'EP: \"Brown Boy\" (2019)'),\n",
       " ('Athlete', '../lyrics/nav/athlete.html', 'EP: \"Brown Boy\" (2019)'),\n",
       " ('To My Grave', '../lyrics/nav/tomygrave.html', 'album: \"Bad Habits\" (2019)'),\n",
       " (\"I'm Ready\", '../lyrics/nav/imready.html', 'album: \"Bad Habits\" (2019)'),\n",
       " ('Taking Chances',\n",
       "  '../lyrics/nav/takingchances.html',\n",
       "  'album: \"Bad Habits\" (2019)'),\n",
       " ('Tap', '../lyrics/nav/tap.html', 'album: \"Bad Habits\" (2019)'),\n",
       " ('Tension', '../lyrics/nav/tension.html', 'album: \"Bad Habits\" (2019)'),\n",
       " ('Price on My Head',\n",
       "  '../lyrics/nav/priceonmyhead.html',\n",
       "  'album: \"Bad Habits\" (2019)'),\n",
       " ('Ralo', '../lyrics/nav/ralo.html', 'album: \"Bad Habits\" (2019)'),\n",
       " ('Tussin', '../lyrics/nav/tussin.html', 'album: \"Bad Habits\" (2019)'),\n",
       " ('Snap', '../lyrics/nav/snap.html', 'album: \"Bad Habits\" (2019)'),\n",
       " ('Hold Your Breath',\n",
       "  '../lyrics/nav/holdyourbreath.html',\n",
       "  'album: \"Bad Habits\" (2019)'),\n",
       " ('Why You Crying Mama',\n",
       "  '../lyrics/nav/whyyoucryingmama.html',\n",
       "  'album: \"Bad Habits\" (2019)'),\n",
       " ('Time Piece', '../lyrics/nav/timepiece.html', 'album: \"Bad Habits\" (2019)'),\n",
       " ('Dior Runners',\n",
       "  '../lyrics/nav/diorrunners.html',\n",
       "  'album: \"Bad Habits\" (2019)'),\n",
       " ('Vicodin', '../lyrics/nav/vicodin.html', 'album: \"Bad Habits\" (2019)'),\n",
       " ('Stuck with Me',\n",
       "  '../lyrics/nav/stuckwithme.html',\n",
       "  'album: \"Bad Habits\" (2019)'),\n",
       " ('Know Me', '../lyrics/nav/knowme.html', 'album: \"Bad Habits\" (2019)'),\n",
       " ('Diamonds', '../lyrics/nav/diamonds.html', 'other songs:'),\n",
       " ('Fast Life', '../lyrics/nav/fastlife.html', 'other songs:'),\n",
       " ('Glow Up (Remix)', '../lyrics/nav/glowupremix.html', 'other songs:'),\n",
       " ('Me And My Bitch', '../lyrics/nav/meandmybitch.html', 'other songs:')]"
      ]
     },
     "execution_count": 30,
     "metadata": {},
     "output_type": "execute_result"
    }
   ],
   "source": [
    "data = [] #Create a storage container\n",
    "for album_n in range(len(albums)):\n",
    "    #On the last album, we won't be able to look forward\n",
    "    if album_n == len(albums)-1:\n",
    "        cur_album = albums[album_n]\n",
    "        album_songs = cur_album.findNextSiblings('a')\n",
    "        for song in album_songs:\n",
    "            page = song.get('href')\n",
    "            title = song.text\n",
    "            album = cur_album.text\n",
    "            data.append((title, page, album))\n",
    "    else:\n",
    "        cur_album = albums[album_n]\n",
    "        next_album = albums[album_n+1]\n",
    "        saca = cur_album.findNextSiblings('a') #songs after current album\n",
    "        sbna = next_album.findPreviousSiblings('a') #songs before next album\n",
    "        album_songs = [song for song in saca if song in sbna] #album songs are those listed after the current album but before the next one!\n",
    "        for song in album_songs:\n",
    "            page = song.get('href')\n",
    "            title = song.text\n",
    "            album = cur_album.text\n",
    "            data.append((title, page, album))\n",
    "data"
   ]
  },
  {
   "cell_type": "code",
   "execution_count": 82,
   "metadata": {},
   "outputs": [
    {
     "name": "stdout",
     "output_type": "stream",
     "text": [
      "85 3\n"
     ]
    }
   ],
   "source": [
    "print(len(data), len(data[0]))"
   ]
  },
  {
   "cell_type": "markdown",
   "metadata": {},
   "source": [
    "### Storing Elements\n",
    "Let's start to clean everything up. To start let's create a Pandas DataFrame; a spreadsheet object similar to those from Microsoft Excel."
   ]
  },
  {
   "cell_type": "code",
   "execution_count": 31,
   "metadata": {},
   "outputs": [
    {
     "name": "stdout",
     "output_type": "stream",
     "text": [
      "86\n"
     ]
    },
    {
     "data": {
      "text/html": [
       "<div>\n",
       "<style scoped>\n",
       "    .dataframe tbody tr th:only-of-type {\n",
       "        vertical-align: middle;\n",
       "    }\n",
       "\n",
       "    .dataframe tbody tr th {\n",
       "        vertical-align: top;\n",
       "    }\n",
       "\n",
       "    .dataframe thead th {\n",
       "        text-align: right;\n",
       "    }\n",
       "</style>\n",
       "<table border=\"1\" class=\"dataframe\">\n",
       "  <thead>\n",
       "    <tr style=\"text-align: right;\">\n",
       "      <th></th>\n",
       "      <th>Song</th>\n",
       "      <th>Url_ext</th>\n",
       "      <th>Album</th>\n",
       "    </tr>\n",
       "  </thead>\n",
       "  <tbody>\n",
       "    <tr>\n",
       "      <th>0</th>\n",
       "      <td>Nothin On You</td>\n",
       "      <td>../lyrics/nav/nothinonyou.html</td>\n",
       "      <td>mixtape: \"The Introduction\" (2016)</td>\n",
       "    </tr>\n",
       "    <tr>\n",
       "      <th>1</th>\n",
       "      <td>Make Your Mind Up</td>\n",
       "      <td>../lyrics/nav/makeyourmindup.html</td>\n",
       "      <td>mixtape: \"The Introduction\" (2016)</td>\n",
       "    </tr>\n",
       "    <tr>\n",
       "      <th>2</th>\n",
       "      <td>Mission</td>\n",
       "      <td>../lyrics/nav/mission.html</td>\n",
       "      <td>mixtape: \"The Introduction\" (2016)</td>\n",
       "    </tr>\n",
       "    <tr>\n",
       "      <th>3</th>\n",
       "      <td>Brown Boy</td>\n",
       "      <td>../lyrics/nav/brownboy.html</td>\n",
       "      <td>mixtape: \"The Introduction\" (2016)</td>\n",
       "    </tr>\n",
       "    <tr>\n",
       "      <th>4</th>\n",
       "      <td>Take Me Simple</td>\n",
       "      <td>../lyrics/nav/takemesimple.html</td>\n",
       "      <td>mixtape: \"The Introduction\" (2016)</td>\n",
       "    </tr>\n",
       "  </tbody>\n",
       "</table>\n",
       "</div>"
      ],
      "text/plain": [
       "                Song                            Url_ext  \\\n",
       "0      Nothin On You     ../lyrics/nav/nothinonyou.html   \n",
       "1  Make Your Mind Up  ../lyrics/nav/makeyourmindup.html   \n",
       "2            Mission         ../lyrics/nav/mission.html   \n",
       "3          Brown Boy        ../lyrics/nav/brownboy.html   \n",
       "4     Take Me Simple    ../lyrics/nav/takemesimple.html   \n",
       "\n",
       "                                Album  \n",
       "0  mixtape: \"The Introduction\" (2016)  \n",
       "1  mixtape: \"The Introduction\" (2016)  \n",
       "2  mixtape: \"The Introduction\" (2016)  \n",
       "3  mixtape: \"The Introduction\" (2016)  \n",
       "4  mixtape: \"The Introduction\" (2016)  "
      ]
     },
     "execution_count": 31,
     "metadata": {},
     "output_type": "execute_result"
    }
   ],
   "source": [
    "df = pd.DataFrame(data) #Create a DataFrame from the data\n",
    "print(len(df)) #See how long the dataset is (number of rows)\n",
    "df.columns = ['Song', 'Url_ext', 'Album']\n",
    "df.head() #Preview the DataFrame (default is first 5 rows) "
   ]
  },
  {
   "cell_type": "code",
   "execution_count": 70,
   "metadata": {},
   "outputs": [
    {
     "data": {
      "text/plain": [
       "-1"
      ]
     },
     "execution_count": 70,
     "metadata": {},
     "output_type": "execute_result"
    }
   ],
   "source": [
    "albums.find('[(](\\d\\d\\d\\d)[)]')"
   ]
  },
  {
   "cell_type": "markdown",
   "metadata": {},
   "source": [
    "### Cleaning Elements\n",
    "\n",
    "Here's where your knowledge of string methods will come in super handy! You can also use more complex selection rules with Regular Expressions using the re package. See https://docs.python.org/3/library/re.html for more details!"
   ]
  },
  {
   "cell_type": "code",
   "execution_count": 62,
   "metadata": {},
   "outputs": [
    {
     "data": {
      "text/html": [
       "<div>\n",
       "<style scoped>\n",
       "    .dataframe tbody tr th:only-of-type {\n",
       "        vertical-align: middle;\n",
       "    }\n",
       "\n",
       "    .dataframe tbody tr th {\n",
       "        vertical-align: top;\n",
       "    }\n",
       "\n",
       "    .dataframe thead th {\n",
       "        text-align: right;\n",
       "    }\n",
       "</style>\n",
       "<table border=\"1\" class=\"dataframe\">\n",
       "  <thead>\n",
       "    <tr style=\"text-align: right;\">\n",
       "      <th></th>\n",
       "      <th>Song</th>\n",
       "      <th>Url_ext</th>\n",
       "      <th>Album</th>\n",
       "      <th>Year</th>\n",
       "    </tr>\n",
       "  </thead>\n",
       "  <tbody>\n",
       "    <tr>\n",
       "      <th>81</th>\n",
       "      <td>Know Me</td>\n",
       "      <td>../lyrics/nav/knowme.html</td>\n",
       "      <td>\"Bad Habits\" (2019)</td>\n",
       "      <td>2019</td>\n",
       "    </tr>\n",
       "    <tr>\n",
       "      <th>82</th>\n",
       "      <td>Diamonds</td>\n",
       "      <td>../lyrics/nav/diamonds.html</td>\n",
       "      <td>other songs</td>\n",
       "      <td>Unknown</td>\n",
       "    </tr>\n",
       "    <tr>\n",
       "      <th>83</th>\n",
       "      <td>Fast Life</td>\n",
       "      <td>../lyrics/nav/fastlife.html</td>\n",
       "      <td>other songs</td>\n",
       "      <td>Unknown</td>\n",
       "    </tr>\n",
       "    <tr>\n",
       "      <th>84</th>\n",
       "      <td>Glow Up (Remix)</td>\n",
       "      <td>../lyrics/nav/glowupremix.html</td>\n",
       "      <td>other songs</td>\n",
       "      <td>Unknown</td>\n",
       "    </tr>\n",
       "    <tr>\n",
       "      <th>85</th>\n",
       "      <td>Me And My Bitch</td>\n",
       "      <td>../lyrics/nav/meandmybitch.html</td>\n",
       "      <td>other songs</td>\n",
       "      <td>Unknown</td>\n",
       "    </tr>\n",
       "  </tbody>\n",
       "</table>\n",
       "</div>"
      ],
      "text/plain": [
       "               Song                          Url_ext                 Album  \\\n",
       "81          Know Me        ../lyrics/nav/knowme.html   \"Bad Habits\" (2019)   \n",
       "82         Diamonds      ../lyrics/nav/diamonds.html           other songs   \n",
       "83        Fast Life      ../lyrics/nav/fastlife.html           other songs   \n",
       "84  Glow Up (Remix)   ../lyrics/nav/glowupremix.html           other songs   \n",
       "85  Me And My Bitch  ../lyrics/nav/meandmybitch.html           other songs   \n",
       "\n",
       "       Year  \n",
       "81     2019  \n",
       "82  Unknown  \n",
       "83  Unknown  \n",
       "84  Unknown  \n",
       "85  Unknown  "
      ]
     },
     "execution_count": 62,
     "metadata": {},
     "output_type": "execute_result"
    }
   ],
   "source": [
    "df['Album'] = df['Album'].map(lambda x: x.strip('mixtape:')) #remove the initial \"album:\". Hopefully none of the actual names contain that!!\n",
    "df.tail() #Preview updated results\n"
   ]
  },
  {
   "cell_type": "code",
   "execution_count": 61,
   "metadata": {},
   "outputs": [
    {
     "data": {
      "text/html": [
       "<div>\n",
       "<style scoped>\n",
       "    .dataframe tbody tr th:only-of-type {\n",
       "        vertical-align: middle;\n",
       "    }\n",
       "\n",
       "    .dataframe tbody tr th {\n",
       "        vertical-align: top;\n",
       "    }\n",
       "\n",
       "    .dataframe thead th {\n",
       "        text-align: right;\n",
       "    }\n",
       "</style>\n",
       "<table border=\"1\" class=\"dataframe\">\n",
       "  <thead>\n",
       "    <tr style=\"text-align: right;\">\n",
       "      <th></th>\n",
       "      <th>Song</th>\n",
       "      <th>Url_ext</th>\n",
       "      <th>Album</th>\n",
       "      <th>Year</th>\n",
       "    </tr>\n",
       "  </thead>\n",
       "  <tbody>\n",
       "    <tr>\n",
       "      <th>0</th>\n",
       "      <td>Nothin On You</td>\n",
       "      <td>../lyrics/nav/nothinonyou.html</td>\n",
       "      <td>\"The Introduction\" (2016)</td>\n",
       "      <td>2016</td>\n",
       "    </tr>\n",
       "    <tr>\n",
       "      <th>1</th>\n",
       "      <td>Make Your Mind Up</td>\n",
       "      <td>../lyrics/nav/makeyourmindup.html</td>\n",
       "      <td>\"The Introduction\" (2016)</td>\n",
       "      <td>2016</td>\n",
       "    </tr>\n",
       "    <tr>\n",
       "      <th>2</th>\n",
       "      <td>Mission</td>\n",
       "      <td>../lyrics/nav/mission.html</td>\n",
       "      <td>\"The Introduction\" (2016)</td>\n",
       "      <td>2016</td>\n",
       "    </tr>\n",
       "    <tr>\n",
       "      <th>3</th>\n",
       "      <td>Brown Boy</td>\n",
       "      <td>../lyrics/nav/brownboy.html</td>\n",
       "      <td>\"The Introduction\" (2016)</td>\n",
       "      <td>2016</td>\n",
       "    </tr>\n",
       "    <tr>\n",
       "      <th>4</th>\n",
       "      <td>Take Me Simple</td>\n",
       "      <td>../lyrics/nav/takemesimple.html</td>\n",
       "      <td>\"The Introduction\" (2016)</td>\n",
       "      <td>2016</td>\n",
       "    </tr>\n",
       "  </tbody>\n",
       "</table>\n",
       "</div>"
      ],
      "text/plain": [
       "                Song                            Url_ext  \\\n",
       "0      Nothin On You     ../lyrics/nav/nothinonyou.html   \n",
       "1  Make Your Mind Up  ../lyrics/nav/makeyourmindup.html   \n",
       "2            Mission         ../lyrics/nav/mission.html   \n",
       "3          Brown Boy        ../lyrics/nav/brownboy.html   \n",
       "4     Take Me Simple    ../lyrics/nav/takemesimple.html   \n",
       "\n",
       "                        Album  Year  \n",
       "0   \"The Introduction\" (2016)  2016  \n",
       "1   \"The Introduction\" (2016)  2016  \n",
       "2   \"The Introduction\" (2016)  2016  \n",
       "3   \"The Introduction\" (2016)  2016  \n",
       "4   \"The Introduction\" (2016)  2016  "
      ]
     },
     "execution_count": 61,
     "metadata": {},
     "output_type": "execute_result"
    }
   ],
   "source": [
    "def extract_year(album_title):\n",
    "    try:\n",
    "        return re.findall('[(](\\d\\d\\d\\d)[)]', album_title)[0]\n",
    "    except:\n",
    "        return 'Unknown'\n",
    "df['Year'] = df['Album'].map(extract_year)\n",
    "df.head()"
   ]
  },
  {
   "cell_type": "markdown",
   "metadata": {},
   "source": [
    "### Visualizing Results\n",
    "How many songs do we have for each album?"
   ]
  },
  {
   "cell_type": "code",
   "execution_count": 63,
   "metadata": {},
   "outputs": [],
   "source": [
    "%matplotlib inline \n",
    "#this allows us to use Pandas built in graphing within the notebook"
   ]
  },
  {
   "cell_type": "code",
   "execution_count": 64,
   "metadata": {},
   "outputs": [
    {
     "data": {
      "text/plain": [
       " \"The Introduction\" (2016)                     18\n",
       " \"Bad Habits\" (2019)                           16\n",
       " \"Perfect Timing\" (2017)(with Metro Boomin)    15\n",
       " \"RECKLESS\" (2018)                             12\n",
       " \"NAV\" (2017)                                  11\n",
       "EP: \"1 Night\" (2018)(with Guap Tarantino)       5\n",
       "EP: \"Brown Boy\" (2019)                          5\n",
       "other songs                                     4\n",
       "Name: Album, dtype: int64"
      ]
     },
     "execution_count": 64,
     "metadata": {},
     "output_type": "execute_result"
    }
   ],
   "source": [
    "df.Album.value_counts()"
   ]
  },
  {
   "cell_type": "code",
   "execution_count": 65,
   "metadata": {},
   "outputs": [
    {
     "data": {
      "text/plain": [
       "<matplotlib.axes._subplots.AxesSubplot at 0x7f79be3bea20>"
      ]
     },
     "execution_count": 65,
     "metadata": {},
     "output_type": "execute_result"
    },
    {
     "data": {
      "image/png": "[encoded data removed]",
      "text/plain": [
       "<Figure size 432x288 with 1 Axes>"
      ]
     },
     "metadata": {
      "needs_background": "light"
     },
     "output_type": "display_data"
    }
   ],
   "source": [
    "df.Album.value_counts().plot(kind='barh')"
   ]
  },
  {
   "cell_type": "markdown",
   "metadata": {},
   "source": [
    "### Cleaning it up: Adding a Title and Axes\n",
    "Here we import the pyplot class within the matplotlib package.  "
   ]
  },
  {
   "cell_type": "code",
   "execution_count": 107,
   "metadata": {},
   "outputs": [],
   "source": [
    "import matplotlib.pyplot as plt"
   ]
  },
  {
   "cell_type": "code",
   "execution_count": 108,
   "metadata": {},
   "outputs": [
    {
     "data": {
      "text/plain": [
       "Text(0,0.5,'Album Title')"
      ]
     },
     "execution_count": 108,
     "metadata": {},
     "output_type": "execute_result"
    },
    {
     "data": {
      "image/png": "[encoded data removed]",
      "text/plain": [
       "<Figure size 432x288 with 1 Axes>"
      ]
     },
     "metadata": {},
     "output_type": "display_data"
    }
   ],
   "source": [
    "df.Album.value_counts().plot(kind='barh')\n",
    "plt.title('Number of Songs by Album')\n",
    "plt.xlabel('Number of Songs')\n",
    "plt.ylabel('Album Title')"
   ]
  },
  {
   "cell_type": "markdown",
   "metadata": {},
   "source": [
    "## Additional Resources\n",
    "\n",
    "#### Beatiful Soup - a good go to tool for parsing the DOM\n",
    "https://www.crummy.com/software/BeautifulSoup/?\n",
    "\n",
    "#### Selenium - Browser automation (useful when you need to interact with javascript for more complex scraping)\n",
    "https://www.seleniumhq.org/\n",
    "\n",
    "#### Scrapy - another package for scraping larger datasets at scale\n",
    "https://scrapy.org/"
   ]
  },
  {
   "cell_type": "markdown",
   "metadata": {},
   "source": [
    "## Summary\n",
    "You should now have a brief intro to web scraping! The possabilities are nearly endless with what you can do. That said, not all websites will be thrilled with your new prowess. Surfing the web at super human speeds will get you banned from many domains and may violate the terms & conditions of many websites that require login. As such, there are a few considerations you should take along your way.\n",
    "\n",
    "* Is there a terms and conditions for using the website?\n",
    "* Test your scraping bot on in small samples to debug before scaling to hundreds, thousands or millions of requests.\n",
    "* Start thinking about your IP address: getting blacklisted from a website is no fun. Consider using a VPN.\n",
    "* Slow your bot down! Add delays along the way with the time package. Specifically, time.sleep(seconds) adds wait time in a program."
   ]
  }
 ],
 "metadata": {
  "kernelspec": {
   "display_name": "Python 3",
   "language": "python",
   "name": "python3"
  },
  "language_info": {
   "codemirror_mode": {
    "name": "ipython",
    "version": 3
   },
   "file_extension": ".py",
   "mimetype": "text/x-python",
   "name": "python",
   "nbconvert_exporter": "python",
   "pygments_lexer": "ipython3",
   "version": "3.6.6"
  }
 },
 "nbformat": 4,
 "nbformat_minor": 2
}
